{
 "cells": [
  {
   "cell_type": "markdown",
   "metadata": {},
   "source": [
    "question: randomly generate a matrix of shape (1million,2) and perform below mentioned operation:\n",
    "\n",
    "1. Find the distance between each 2D datapoint from the centroid ie mean of the given dataset, append the newly calculated distances as new column with each given dataset.\n",
    "\n",
    "2. Given any datapoint generate 3 closes neighbours from it."
   ]
  },
  {
   "cell_type": "markdown",
   "metadata": {},
   "source": [
    "part 1: randomly generate a matrix\n",
    "part 2: shape 1 million: 2\n",
    "part 3: calculate the centroid\n",
    "distance = underroot((x1-x2)^2 + (y1-y2)^2)\n",
    "part4: find the euclidean distance between datapoint and centroid\n",
    "part 5: append the distance column with the given dataset"
   ]
  },
  {
   "cell_type": "code",
   "execution_count": 1,
   "metadata": {},
   "outputs": [],
   "source": [
    "import numpy as np"
   ]
  },
  {
   "cell_type": "code",
   "execution_count": 2,
   "metadata": {},
   "outputs": [
    {
     "data": {
      "text/plain": [
       "(1000000, 2)"
      ]
     },
     "execution_count": 2,
     "metadata": {},
     "output_type": "execute_result"
    }
   ],
   "source": [
    "arr=np.random.randint(1000000,size=(1000000,2)) # generate a matrix\n",
    "arr.shape"
   ]
  },
  {
   "cell_type": "code",
   "execution_count": 4,
   "metadata": {},
   "outputs": [],
   "source": [
    "mu=np.mean(arr,axis=0) # find the centroid"
   ]
  },
  {
   "cell_type": "markdown",
   "metadata": {},
   "source": [
    "We will use numpy broadcasting to save time."
   ]
  },
  {
   "cell_type": "code",
   "execution_count": 11,
   "metadata": {},
   "outputs": [
    {
     "name": "stdout",
     "output_type": "stream",
     "text": [
      "Wall time: 68 ms\n"
     ]
    }
   ],
   "source": [
    "%%time\n",
    "dist=np.sqrt(np.sum((arr-mu)**2,axis=1))"
   ]
  },
  {
   "cell_type": "code",
   "execution_count": 12,
   "metadata": {},
   "outputs": [
    {
     "name": "stdout",
     "output_type": "stream",
     "text": [
      "(1000000,)\n",
      "(1000000, 2)\n"
     ]
    }
   ],
   "source": [
    "print(dist.shape)\n",
    "print(arr.shape)"
   ]
  },
  {
   "cell_type": "code",
   "execution_count": 20,
   "metadata": {},
   "outputs": [
    {
     "data": {
      "text/plain": [
       "(1000000, 1)"
      ]
     },
     "execution_count": 20,
     "metadata": {},
     "output_type": "execute_result"
    }
   ],
   "source": [
    "dist=dist.reshape(-1,1)\n",
    "dist.shape"
   ]
  },
  {
   "cell_type": "code",
   "execution_count": 21,
   "metadata": {},
   "outputs": [
    {
     "data": {
      "text/plain": [
       "array([[397864.        , 483747.        , 103526.22777646],\n",
       "       [689339.        ,  93316.        , 448760.60231966],\n",
       "       [974069.        , 986386.        , 678997.70284369],\n",
       "       ...,\n",
       "       [ 54131.        , 190419.        , 542987.57923025],\n",
       "       [338534.        , 418423.        , 181063.87785989],\n",
       "       [505479.        , 390025.        , 110319.47371774]])"
      ]
     },
     "execution_count": 21,
     "metadata": {},
     "output_type": "execute_result"
    }
   ],
   "source": [
    "np.hstack([arr,dist])"
   ]
  },
  {
   "cell_type": "code",
   "execution_count": null,
   "metadata": {},
   "outputs": [],
   "source": []
  }
 ],
 "metadata": {
  "interpreter": {
   "hash": "0e091db8d58018cc79bd95d4c344ae6fb50dc1dda4747c0206fad4c7e07cd6fa"
  },
  "kernelspec": {
   "display_name": "Python 3.8.6 64-bit",
   "language": "python",
   "name": "python3"
  },
  "language_info": {
   "codemirror_mode": {
    "name": "ipython",
    "version": 3
   },
   "file_extension": ".py",
   "mimetype": "text/x-python",
   "name": "python",
   "nbconvert_exporter": "python",
   "pygments_lexer": "ipython3",
   "version": "3.8.6"
  },
  "orig_nbformat": 4
 },
 "nbformat": 4,
 "nbformat_minor": 2
}

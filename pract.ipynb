{
 "cells": [
  {
   "cell_type": "code",
   "execution_count": 3,
   "metadata": {},
   "outputs": [
    {
     "name": "stdout",
     "output_type": "stream",
     "text": [
      "[0, 3, 6, 9, 12, 15, 18, 21, 24, 27, 30, 33, 36, 39, 42, 45, 48, 51, 54, 57, 60, 63, 66, 69, 72, 75, 78, 81, 84, 87, 90, 93, 96, 99]\n"
     ]
    }
   ],
   "source": [
    "ls=[i for i in range(100) if i%3==0]\n",
    "print(ls)"
   ]
  },
  {
   "cell_type": "code",
   "execution_count": 5,
   "metadata": {},
   "outputs": [
    {
     "name": "stdout",
     "output_type": "stream",
     "text": [
      "{0: 'item(i)', 1: 'item(i)', 2: 'item(i)', 3: 'item(i)', 4: 'item(i)', 5: 'item(i)', 6: 'item(i)', 7: 'item(i)', 8: 'item(i)', 9: 'item(i)', 10: 'item(i)', 11: 'item(i)', 12: 'item(i)', 13: 'item(i)', 14: 'item(i)', 15: 'item(i)', 16: 'item(i)', 17: 'item(i)', 18: 'item(i)', 19: 'item(i)', 20: 'item(i)', 21: 'item(i)', 22: 'item(i)', 23: 'item(i)', 24: 'item(i)', 25: 'item(i)', 26: 'item(i)', 27: 'item(i)', 28: 'item(i)', 29: 'item(i)', 30: 'item(i)', 31: 'item(i)', 32: 'item(i)', 33: 'item(i)', 34: 'item(i)', 35: 'item(i)', 36: 'item(i)', 37: 'item(i)', 38: 'item(i)', 39: 'item(i)', 40: 'item(i)', 41: 'item(i)', 42: 'item(i)', 43: 'item(i)', 44: 'item(i)', 45: 'item(i)', 46: 'item(i)', 47: 'item(i)', 48: 'item(i)', 49: 'item(i)', 50: 'item(i)', 51: 'item(i)', 52: 'item(i)', 53: 'item(i)', 54: 'item(i)', 55: 'item(i)', 56: 'item(i)', 57: 'item(i)', 58: 'item(i)', 59: 'item(i)', 60: 'item(i)', 61: 'item(i)', 62: 'item(i)', 63: 'item(i)', 64: 'item(i)', 65: 'item(i)', 66: 'item(i)', 67: 'item(i)', 68: 'item(i)', 69: 'item(i)', 70: 'item(i)', 71: 'item(i)', 72: 'item(i)', 73: 'item(i)', 74: 'item(i)', 75: 'item(i)', 76: 'item(i)', 77: 'item(i)', 78: 'item(i)', 79: 'item(i)', 80: 'item(i)', 81: 'item(i)', 82: 'item(i)', 83: 'item(i)', 84: 'item(i)', 85: 'item(i)', 86: 'item(i)', 87: 'item(i)', 88: 'item(i)', 89: 'item(i)', 90: 'item(i)', 91: 'item(i)', 92: 'item(i)', 93: 'item(i)', 94: 'item(i)', 95: 'item(i)', 96: 'item(i)', 97: 'item(i)', 98: 'item(i)', 99: 'item(i)'}\n"
     ]
    }
   ],
   "source": [
    "dict1 = {\n",
    "    i:f\"item(i)\" for i in range(100)\n",
    "}\n",
    "print(dict1)"
   ]
  },
  {
   "cell_type": "code",
   "execution_count": 11,
   "metadata": {},
   "outputs": [
    {
     "name": "stdout",
     "output_type": "stream",
     "text": [
      "[0]\n",
      "[[0, 0, 0], [0, 0, 1], [0, 1, 0], [1, 0, 0], [1, 1, 1]]\n"
     ]
    }
   ],
   "source": [
    "x=1\n",
    "X=[x for x in range(x)]\n",
    "print(X)\n",
    "y=1\n",
    "z=1\n",
    "n=2\n",
    "x1=[i for i in range(x+1)]\n",
    "y1=[i for i in range(y+1)]\n",
    "z1=[i for i in range(z+1)]\n",
    "l=[[i,j,k] for i in x1 for j in y1 for k in z1 if i++j+k != n]\n",
    "print(l)"
   ]
  },
  {
   "cell_type": "code",
   "execution_count": 19,
   "metadata": {},
   "outputs": [
    {
     "name": "stdout",
     "output_type": "stream",
     "text": [
      "{57, -57}\n",
      "-57\n"
     ]
    }
   ],
   "source": [
    "l1=[57,57,-57,57]\n",
    "n=5\n",
    "l2={i for i in l1}\n",
    "print(l2)\n",
    "l3=[i for i in l2]\n",
    "l3.sort()\n",
    "print(l3[-2])"
   ]
  },
  {
   "cell_type": "code",
   "execution_count": 45,
   "metadata": {},
   "outputs": [
    {
     "name": "stdout",
     "output_type": "stream",
     "text": [
      "['Berry', 'Harry']\n"
     ]
    }
   ],
   "source": [
    "n=5\n",
    "l=[[\"Harry\",37.21],[\"Berry\",37.21],[\"Tina\",37.2],[\"Akriti\",41],[\"Harsh\",39]]\n",
    "l1=[37.21,37.21,37.2,41,39]\n",
    "l.sort()\n",
    "l1.sort()\n",
    "l_set={i for i in l1}\n",
    "l_new=[i for i in l_set]\n",
    "l_new.sort()\n",
    "c=l_new[1]\n",
    "ans=[i for [i,j] in l if j==c]\n",
    "print(ans)"
   ]
  },
  {
   "cell_type": "code",
   "execution_count": 46,
   "metadata": {},
   "outputs": [
    {
     "name": "stdout",
     "output_type": "stream",
     "text": [
      "-3550055125485641917\n"
     ]
    }
   ],
   "source": [
    "ans=(1,2)\n",
    "print(hash(ans))"
   ]
  },
  {
   "cell_type": "code",
   "execution_count": 51,
   "metadata": {},
   "outputs": [
    {
     "name": "stdout",
     "output_type": "stream",
     "text": [
      "[15, 14, 13, 12, 11, 2, 10, 9, 8, 7, 6, 5, 4, 3, 2, 1]\n"
     ]
    }
   ],
   "source": [
    "l=[1,2,3,4,5,6,7,8,9,10,11,12,13,14,15]\n",
    "l.insert(10,2)\n",
    "l.reverse()\n",
    "print(l)"
   ]
  },
  {
   "cell_type": "code",
   "execution_count": 60,
   "metadata": {},
   "outputs": [
    {
     "ename": "ValueError",
     "evalue": "invalid literal for int() with base 10: ''",
     "output_type": "error",
     "traceback": [
      "\u001b[1;31m---------------------------------------------------------------------------\u001b[0m",
      "\u001b[1;31mValueError\u001b[0m                                Traceback (most recent call last)",
      "\u001b[1;32m~\\AppData\\Local\\Temp/ipykernel_16936/1626472877.py\u001b[0m in \u001b[0;36m<module>\u001b[1;34m\u001b[0m\n\u001b[1;32m----> 1\u001b[1;33m \u001b[0mN\u001b[0m \u001b[1;33m=\u001b[0m \u001b[0mint\u001b[0m\u001b[1;33m(\u001b[0m\u001b[0minput\u001b[0m\u001b[1;33m(\u001b[0m\u001b[1;33m)\u001b[0m\u001b[1;33m)\u001b[0m\u001b[1;33m\u001b[0m\u001b[1;33m\u001b[0m\u001b[0m\n\u001b[0m\u001b[0;32m      2\u001b[0m \u001b[0ml\u001b[0m\u001b[1;33m=\u001b[0m\u001b[1;33m[\u001b[0m\u001b[1;33m]\u001b[0m\u001b[1;33m\u001b[0m\u001b[1;33m\u001b[0m\u001b[0m\n\u001b[0;32m      3\u001b[0m \u001b[1;32mfor\u001b[0m \u001b[0mk\u001b[0m \u001b[1;32min\u001b[0m \u001b[0mrange\u001b[0m\u001b[1;33m(\u001b[0m\u001b[0mN\u001b[0m\u001b[1;33m)\u001b[0m\u001b[1;33m:\u001b[0m\u001b[1;33m\u001b[0m\u001b[1;33m\u001b[0m\u001b[0m\n\u001b[0;32m      4\u001b[0m     \u001b[0ms\u001b[0m\u001b[1;33m=\u001b[0m\u001b[0minput\u001b[0m\u001b[1;33m(\u001b[0m\u001b[1;33m)\u001b[0m\u001b[1;33m\u001b[0m\u001b[1;33m\u001b[0m\u001b[0m\n\u001b[0;32m      5\u001b[0m     \u001b[0mprint\u001b[0m\u001b[1;33m(\u001b[0m\u001b[0ms\u001b[0m\u001b[1;33m)\u001b[0m\u001b[1;33m\u001b[0m\u001b[1;33m\u001b[0m\u001b[0m\n",
      "\u001b[1;31mValueError\u001b[0m: invalid literal for int() with base 10: ''"
     ]
    }
   ],
   "source": [
    "N = int(input())\n",
    "l=[]\n",
    "for k in range(N):\n",
    "    s=input()\n",
    "    m=s.split(\" \")\n",
    "    if m[0]=='insert':\n",
    "        i=int(m[1]) \n",
    "        j=int(m[2])\n",
    "        l.insert(i,j)\n",
    "    elif s=='print':\n",
    "        print(l)\n",
    "    elif m[0]=='remove':\n",
    "        i=int(m[1])\n",
    "        l.remove(i)\n",
    "    elif s=='append':\n",
    "        i=int(input())\n",
    "        l.append(i)\n",
    "    elif s=='pop':\n",
    "        l.pop(len(l)-1)\n",
    "    elif s=='sort':\n",
    "        l.sort()\n",
    "    elif s=='reverse':\n",
    "        l.reverse()"
   ]
  },
  {
   "cell_type": "code",
   "execution_count": 61,
   "metadata": {},
   "outputs": [
    {
     "name": "stdout",
     "output_type": "stream",
     "text": [
      "['my', 'name', 'is', 'vinay', 'kumar']\n"
     ]
    }
   ],
   "source": [
    "s=\"my name is vinay kumar\"\n",
    "p=s.split(\" \")\n",
    "print(p)"
   ]
  },
  {
   "cell_type": "code",
   "execution_count": 64,
   "metadata": {},
   "outputs": [
    {
     "name": "stdout",
     "output_type": "stream",
     "text": [
      "{1, 2, 3, 4}\n",
      "4\n"
     ]
    }
   ],
   "source": [
    "l=[1,2,2,3,1,3,4,2,3,4]\n",
    "s=set(l)\n",
    "print(s)\n",
    "k=0\n",
    "for i in s:\n",
    "    k=k+1\n",
    "print(k)"
   ]
  },
  {
   "cell_type": "code",
   "execution_count": 71,
   "metadata": {},
   "outputs": [
    {
     "name": "stdout",
     "output_type": "stream",
     "text": [
      "5\n",
      "9\n",
      "11\n",
      "12\n"
     ]
    }
   ],
   "source": [
    "m_set={2,4,5,9}\n",
    "n_set={2,4,11,12}\n",
    "q=m_set.symmetric_difference(n_set)\n",
    "q_list=[i for i in q]\n",
    "q_list.sort()\n",
    "for i in q_list:\n",
    "    print(i)"
   ]
  },
  {
   "cell_type": "code",
   "execution_count": 72,
   "metadata": {},
   "outputs": [
    {
     "name": "stdout",
     "output_type": "stream",
     "text": [
      "{2, 3, 4}\n"
     ]
    }
   ],
   "source": [
    "s={1,2,3,4}\n",
    "s.pop()\n",
    "print(s)"
   ]
  },
  {
   "cell_type": "code",
   "execution_count": 75,
   "metadata": {},
   "outputs": [
    {
     "name": "stdout",
     "output_type": "stream",
     "text": [
      "{1, 2, 3, 4, 5, 6, 7, 8, 9}\n",
      "{2, 3, 4, 5, 6, 7, 8, 9}\n"
     ]
    },
    {
     "ename": "KeyError",
     "evalue": "'9'",
     "output_type": "error",
     "traceback": [
      "\u001b[1;31m---------------------------------------------------------------------------\u001b[0m",
      "\u001b[1;31mKeyError\u001b[0m                                  Traceback (most recent call last)",
      "\u001b[1;32m~\\AppData\\Local\\Temp/ipykernel_16936/2889312902.py\u001b[0m in \u001b[0;36m<module>\u001b[1;34m\u001b[0m\n\u001b[0;32m     11\u001b[0m     \u001b[1;32melif\u001b[0m \u001b[0mst\u001b[0m\u001b[1;33m[\u001b[0m\u001b[1;36m0\u001b[0m\u001b[1;33m]\u001b[0m\u001b[1;33m==\u001b[0m\u001b[1;34m'remove'\u001b[0m\u001b[1;33m:\u001b[0m\u001b[1;33m\u001b[0m\u001b[1;33m\u001b[0m\u001b[0m\n\u001b[0;32m     12\u001b[0m         \u001b[0ml\u001b[0m\u001b[1;33m=\u001b[0m\u001b[0mst\u001b[0m\u001b[1;33m[\u001b[0m\u001b[1;36m1\u001b[0m\u001b[1;33m]\u001b[0m\u001b[1;33m\u001b[0m\u001b[1;33m\u001b[0m\u001b[0m\n\u001b[1;32m---> 13\u001b[1;33m         \u001b[0ms\u001b[0m\u001b[1;33m.\u001b[0m\u001b[0mremove\u001b[0m\u001b[1;33m(\u001b[0m\u001b[0ml\u001b[0m\u001b[1;33m)\u001b[0m\u001b[1;33m\u001b[0m\u001b[1;33m\u001b[0m\u001b[0m\n\u001b[0m\u001b[0;32m     14\u001b[0m     \u001b[1;32melif\u001b[0m \u001b[0mm\u001b[0m\u001b[1;33m==\u001b[0m\u001b[1;34m'print'\u001b[0m\u001b[1;33m:\u001b[0m\u001b[1;33m\u001b[0m\u001b[1;33m\u001b[0m\u001b[0m\n\u001b[0;32m     15\u001b[0m         \u001b[0mprint\u001b[0m\u001b[1;33m(\u001b[0m\u001b[0ms\u001b[0m\u001b[1;33m)\u001b[0m\u001b[1;33m\u001b[0m\u001b[1;33m\u001b[0m\u001b[0m\n",
      "\u001b[1;31mKeyError\u001b[0m: '9'"
     ]
    }
   ],
   "source": [
    "s={1,2,3,4,5,6,7,8,9}\n",
    "num=int(input())\n",
    "for i in range(num):\n",
    "    m=input()\n",
    "    st=m.split(\" \")\n",
    "    if m=='pop':\n",
    "        s.pop()\n",
    "    elif st[0]=='discard':\n",
    "        q=st[1]\n",
    "        s.discard(q)\n",
    "    elif st[0]=='remove':\n",
    "        l=st[1]\n",
    "        s.remove(l)\n",
    "    elif m=='print':\n",
    "        print(s)\n",
    "sum=0\n",
    "for i in s:\n",
    "    sum=sum+i\n",
    "print(sum)"
   ]
  },
  {
   "cell_type": "code",
   "execution_count": 3,
   "metadata": {},
   "outputs": [
    {
     "name": "stdout",
     "output_type": "stream",
     "text": [
      "no\n"
     ]
    }
   ],
   "source": [
    "a={1,2,3,4,19}\n",
    "b={1,2,3,4,5,6}\n",
    "c=a\n",
    "if c==a.intersection(b):\n",
    "    print(\"yes\")\n",
    "else:\n",
    "    print(\"no\")"
   ]
  },
  {
   "cell_type": "code",
   "execution_count": 3,
   "metadata": {},
   "outputs": [],
   "source": [
    "import cmath"
   ]
  },
  {
   "cell_type": "code",
   "execution_count": 5,
   "metadata": {},
   "outputs": [
    {
     "name": "stdout",
     "output_type": "stream",
     "text": [
      "(3+4j)\n"
     ]
    },
    {
     "ename": "AttributeError",
     "evalue": "'complex' object has no attribute 'x'",
     "output_type": "error",
     "traceback": [
      "\u001b[1;31m---------------------------------------------------------------------------\u001b[0m",
      "\u001b[1;31mAttributeError\u001b[0m                            Traceback (most recent call last)",
      "\u001b[1;32m~\\AppData\\Local\\Temp/ipykernel_15128/2643554593.py\u001b[0m in \u001b[0;36m<module>\u001b[1;34m\u001b[0m\n\u001b[0;32m      1\u001b[0m \u001b[0mj\u001b[0m\u001b[1;33m=\u001b[0m\u001b[0mcomplex\u001b[0m\u001b[1;33m(\u001b[0m\u001b[0minput\u001b[0m\u001b[1;33m(\u001b[0m\u001b[1;33m)\u001b[0m\u001b[1;33m)\u001b[0m\u001b[1;33m\u001b[0m\u001b[1;33m\u001b[0m\u001b[0m\n\u001b[0;32m      2\u001b[0m \u001b[0mprint\u001b[0m\u001b[1;33m(\u001b[0m\u001b[0mj\u001b[0m\u001b[1;33m)\u001b[0m\u001b[1;33m\u001b[0m\u001b[1;33m\u001b[0m\u001b[0m\n\u001b[1;32m----> 3\u001b[1;33m \u001b[0mprint\u001b[0m\u001b[1;33m(\u001b[0m\u001b[0mj\u001b[0m\u001b[1;33m.\u001b[0m\u001b[0mx\u001b[0m\u001b[1;33m)\u001b[0m\u001b[1;33m\u001b[0m\u001b[1;33m\u001b[0m\u001b[0m\n\u001b[0m\u001b[0;32m      4\u001b[0m \u001b[0mprint\u001b[0m\u001b[1;33m(\u001b[0m\u001b[0mcmath\u001b[0m\u001b[1;33m.\u001b[0m\u001b[0mphase\u001b[0m\u001b[1;33m(\u001b[0m\u001b[0mj\u001b[0m\u001b[1;33m)\u001b[0m\u001b[1;33m)\u001b[0m\u001b[1;33m\u001b[0m\u001b[1;33m\u001b[0m\u001b[0m\n",
      "\u001b[1;31mAttributeError\u001b[0m: 'complex' object has no attribute 'x'"
     ]
    }
   ],
   "source": [
    "j=complex(input())\n",
    "print(j)\n",
    "print(j.x)\n",
    "print(cmath.phase(j))"
   ]
  },
  {
   "cell_type": "code",
   "execution_count": null,
   "metadata": {},
   "outputs": [],
   "source": []
  },
  {
   "cell_type": "code",
   "execution_count": 7,
   "metadata": {},
   "outputs": [
    {
     "name": "stdout",
     "output_type": "stream",
     "text": [
      "2.0 1.0\n",
      "5.0\n",
      "2.23606797749979\n",
      "1.1071487177940904\n"
     ]
    }
   ],
   "source": [
    "import math\n",
    "import cmath\n",
    "j=complex(input())\n",
    "p=j.imag\n",
    "q=j.real\n",
    "sqr=p*p+q*q\n",
    "print(p,q)\n",
    "print(sqr)\n",
    "print(math.sqrt(sqr))\n",
    "print(cmath.phase(j))"
   ]
  },
  {
   "cell_type": "code",
   "execution_count": null,
   "metadata": {},
   "outputs": [],
   "source": [
    "import math\n",
    "AB,BC=int(input()),int(input())\n",
    "hype=math.hypot(AB,BC)                      #to calculate hypotenuse\n",
    "res=round(math.degrees(math.acos(BC/hype))) #to calculate required angle \n",
    "degree=chr(176)                                #for DEGREE symbol\n",
    "print(res,degree, sep='')"
   ]
  }
 ],
 "metadata": {
  "interpreter": {
   "hash": "0e091db8d58018cc79bd95d4c344ae6fb50dc1dda4747c0206fad4c7e07cd6fa"
  },
  "kernelspec": {
   "display_name": "Python 3.8.6 64-bit",
   "name": "python3"
  },
  "language_info": {
   "codemirror_mode": {
    "name": "ipython",
    "version": 3
   },
   "file_extension": ".py",
   "mimetype": "text/x-python",
   "name": "python",
   "nbconvert_exporter": "python",
   "pygments_lexer": "ipython3",
   "version": "3.8.6"
  },
  "orig_nbformat": 4
 },
 "nbformat": 4,
 "nbformat_minor": 2
}
